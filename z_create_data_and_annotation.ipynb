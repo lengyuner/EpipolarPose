{
 "cells": [
  {
   "cell_type": "code",
   "execution_count": 3,
   "metadata": {},
   "outputs": [],
   "source": [
    "import pickle\n",
    "import numpy as np\n",
    "import os\n",
    "\n",
    "\n",
    "DATASETS_ALL = ['EY', 'HL', 'KK', 'NP', 'SF', 'SK1', 'SK2']\n",
    "\n",
    "Dandi_IDS = {\n",
    "    'EY': '000541',\n",
    "    'HL': '000714',\n",
    "    'KK': '000692',\n",
    "    'NP': '000715',\n",
    "    'SF': '000776',\n",
    "    'SK1': '000565',\n",
    "    'SK2': '000472'\n",
    "}\n",
    "\n",
    "MAX_IMG_VALUE = {\n",
    "    'EY': 4095,\n",
    "    'HL': 65535,\n",
    "    'KK': 65535,\n",
    "    'NP': 65535,\n",
    "    'SF': np.nan,\n",
    "    'SK1': 4095,\n",
    "    'SK2': 4095,\n",
    "}\n",
    " \n"
   ]
  },
  {
   "cell_type": "code",
   "execution_count": 11,
   "metadata": {},
   "outputs": [
    {
     "name": "stdout",
     "output_type": "stream",
     "text": [
      "KK\n",
      "000692\n",
      "D:\\Data\\WormID\\NWB_data\\combined_neuropal_img_000692.pkl\n",
      "D:\\Data\\WormID\\NWB_data\\combined_neuropal_pos_new_000692.pkl\n",
      "D:\\Data\\WormID\\NWB_data\\combined_neuropal_id_000692.pkl\n",
      "dict_keys(['20230918-9-54-0', '20230918-13-21-0', '20230918-17-21-0', '20230928-11-14-0', '20230928-14-27-0', '20230928-16-0-0', '20231013-9-30-0', '20231013-11-11-0', '20231013-13-28-0'])\n",
      "20230918-9-54-0 (150, 4) (200, 461, 28, 3) (150,)\n",
      "20230918-13-21-0 (149, 4) (220, 461, 28, 3) (149,)\n",
      "20230918-17-21-0 (156, 4) (223, 461, 28, 3) (156,)\n",
      "20230928-11-14-0 (157, 4) (204, 461, 28, 3) (157,)\n",
      "20230928-14-27-0 (154, 4) (232, 461, 28, 3) (154,)\n",
      "20230928-16-0-0 (150, 4) (204, 461, 28, 3) (150,)\n",
      "20231013-9-30-0 (155, 4) (238, 461, 28, 3) (155,)\n",
      "20231013-11-11-0 (163, 4) (243, 461, 28, 3) (163,)\n",
      "20231013-13-28-0 (154, 4) (229, 461, 28, 3) (154,)\n"
     ]
    }
   ],
   "source": [
    "\n",
    "name = r\"D:\\Data\\WormID\\NWB_data\\combined_neuropal_img_000472.pkl\"\n",
    "path_to = r'D:\\Data\\WormID\\NWB_data' \n",
    "\n",
    "DATASETS_ALL =  ['KK']\n",
    "for dataset in DATASETS_ALL:\n",
    "    dandi_id = Dandi_IDS[dataset] \n",
    "    print(dataset)\n",
    "    print(dandi_id)\n",
    "\n",
    "    name = f'combined_neuropal_img_{dandi_id}.pkl' \n",
    "    name = os.path.join(path_to, name)\n",
    "    print(name) \n",
    "    with open(name, \"rb\") as f:\n",
    "        neuropal_img_all = pickle.load(f)\n",
    "\n",
    "\n",
    "    name = f'combined_neuropal_pos_new_{dandi_id}.pkl'\n",
    "    name = os.path.join(path_to, name)\n",
    "    print(name)\n",
    "    with open(name, \"rb\") as f:\n",
    "        neuropal_pos_all = pickle.load(f) \n",
    "\n",
    "    name = f'combined_neuropal_id_{dandi_id}.pkl'\n",
    "    name = os.path.join(path_to, name)\n",
    "    print(name)\n",
    "    with open(name, \"rb\") as f:\n",
    "        neuropal_id_all = pickle.load(f) \n",
    "\n",
    "\n",
    "    print(neuropal_pos_all.keys())\n",
    "    for key in neuropal_pos_all.keys():\n",
    "        print(key, neuropal_pos_all[key].shape, neuropal_img_all[key].shape, neuropal_id_all[key].shape)\n",
    "\n"
   ]
  },
  {
   "cell_type": "code",
   "execution_count": 12,
   "metadata": {},
   "outputs": [
    {
     "data": {
      "text/plain": [
       "0      AMSOR\n",
       "1      AMSOL\n",
       "2        I1L\n",
       "3        I1R\n",
       "4        I2R\n",
       "       ...  \n",
       "145      RIS\n",
       "146     RMGL\n",
       "147     AVKL\n",
       "148     RIFR\n",
       "149     AVFL\n",
       "Name: ID, Length: 150, dtype: object"
      ]
     },
     "execution_count": 12,
     "metadata": {},
     "output_type": "execute_result"
    }
   ],
   "source": [
    "# neuropal_pos_all['20230918-9-54-0'].shape\n",
    "neuropal_id_all['20230918-9-54-0'] "
   ]
  },
  {
   "cell_type": "code",
   "execution_count": null,
   "metadata": {},
   "outputs": [],
   "source": []
  }
 ],
 "metadata": {
  "kernelspec": {
   "display_name": "meta",
   "language": "python",
   "name": "python3"
  },
  "language_info": {
   "codemirror_mode": {
    "name": "ipython",
    "version": 3
   },
   "file_extension": ".py",
   "mimetype": "text/x-python",
   "name": "python",
   "nbconvert_exporter": "python",
   "pygments_lexer": "ipython3",
   "version": "3.9.18"
  }
 },
 "nbformat": 4,
 "nbformat_minor": 2
}
